{
 "metadata": {
  "name": "",
  "signature": "sha256:4dcdb58a2d47247171b4c6a258a6fe4d5aabc705af50d63fe87196be77a7a13a"
 },
 "nbformat": 3,
 "nbformat_minor": 0,
 "worksheets": []
}