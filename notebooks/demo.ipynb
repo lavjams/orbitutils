{
 "metadata": {
  "name": "",
  "signature": "sha256:b9aae21c446c491dc2f61e35a5c0fdab61998d53254249e68e4c0c05eccb4c43"
 },
 "nbformat": 3,
 "nbformat_minor": 0,
 "worksheets": [
  {
   "cells": [
    {
     "cell_type": "code",
     "collapsed": false,
     "input": [
      "from orbitutils import OrbitPopulation"
     ],
     "language": "python",
     "metadata": {},
     "outputs": []
    },
    {
     "cell_type": "markdown",
     "metadata": {},
     "source": [
      "First demo: make a population of two solar-mass stars orbiting with 100d period. "
     ]
    },
    {
     "cell_type": "code",
     "collapsed": false,
     "input": [
      "pop = OrbitPopulation(1,1,100)"
     ],
     "language": "python",
     "metadata": {},
     "outputs": [
      {
       "ename": "NameError",
       "evalue": "global name 'Efn' is not defined",
       "output_type": "pyerr",
       "traceback": [
        "\u001b[0;31m---------------------------------------------------------------------------\u001b[0m\n\u001b[0;31mNameError\u001b[0m                                 Traceback (most recent call last)",
        "\u001b[0;32m<ipython-input-2-43d8c53ff5c9>\u001b[0m in \u001b[0;36m<module>\u001b[0;34m()\u001b[0m\n\u001b[0;32m----> 1\u001b[0;31m \u001b[0mpop\u001b[0m \u001b[0;34m=\u001b[0m \u001b[0mOrbitPopulation\u001b[0m\u001b[0;34m(\u001b[0m\u001b[0;36m1\u001b[0m\u001b[0;34m,\u001b[0m\u001b[0;36m1\u001b[0m\u001b[0;34m,\u001b[0m\u001b[0;36m100\u001b[0m\u001b[0;34m)\u001b[0m\u001b[0;34m\u001b[0m\u001b[0m\n\u001b[0m",
        "\u001b[0;32m/Users/tdm/anaconda/lib/python2.7/site-packages/orbitutils-0.1-py2.7.egg/orbitutils/populations.pyc\u001b[0m in \u001b[0;36m__init__\u001b[0;34m(self, M1, M2, P, ecc, n, mean_anomaly, obsx, obsy, obsz, obspos)\u001b[0m\n\u001b[1;32m    227\u001b[0m         position,velocity = orbit_posvel(self.M,self.ecc,self.semimajor.value,\n\u001b[1;32m    228\u001b[0m                                             \u001b[0mself\u001b[0m\u001b[0;34m.\u001b[0m\u001b[0mmred\u001b[0m\u001b[0;34m.\u001b[0m\u001b[0mvalue\u001b[0m\u001b[0;34m,\u001b[0m\u001b[0;34m\u001b[0m\u001b[0m\n\u001b[0;32m--> 229\u001b[0;31m                                             self.obspos)\n\u001b[0m\u001b[1;32m    230\u001b[0m \u001b[0;34m\u001b[0m\u001b[0m\n\u001b[1;32m    231\u001b[0m         \u001b[0mself\u001b[0m\u001b[0;34m.\u001b[0m\u001b[0mposition\u001b[0m \u001b[0;34m=\u001b[0m \u001b[0mposition\u001b[0m\u001b[0;34m\u001b[0m\u001b[0m\n",
        "\u001b[0;32m/Users/tdm/anaconda/lib/python2.7/site-packages/orbitutils-0.1-py2.7.egg/orbitutils/utils.pyc\u001b[0m in \u001b[0;36morbit_posvel\u001b[0;34m(Ms, eccs, semimajors, mreds, obspos)\u001b[0m\n\u001b[1;32m    108\u001b[0m     \"\"\"\n\u001b[1;32m    109\u001b[0m \u001b[0;34m\u001b[0m\u001b[0m\n\u001b[0;32m--> 110\u001b[0;31m     \u001b[0mEs\u001b[0m \u001b[0;34m=\u001b[0m \u001b[0mEfn\u001b[0m\u001b[0;34m(\u001b[0m\u001b[0mMs\u001b[0m\u001b[0;34m,\u001b[0m\u001b[0meccs\u001b[0m\u001b[0;34m)\u001b[0m \u001b[0;31m#eccentric anomalies by interpolation\u001b[0m\u001b[0;34m\u001b[0m\u001b[0m\n\u001b[0m\u001b[1;32m    111\u001b[0m \u001b[0;34m\u001b[0m\u001b[0m\n\u001b[1;32m    112\u001b[0m     \u001b[0mrs\u001b[0m \u001b[0;34m=\u001b[0m \u001b[0msemimajors\u001b[0m\u001b[0;34m*\u001b[0m\u001b[0;34m(\u001b[0m\u001b[0;36m1\u001b[0m\u001b[0;34m-\u001b[0m\u001b[0meccs\u001b[0m\u001b[0;34m*\u001b[0m\u001b[0mnp\u001b[0m\u001b[0;34m.\u001b[0m\u001b[0mcos\u001b[0m\u001b[0;34m(\u001b[0m\u001b[0mEs\u001b[0m\u001b[0;34m)\u001b[0m\u001b[0;34m)\u001b[0m\u001b[0;34m\u001b[0m\u001b[0m\n",
        "\u001b[0;31mNameError\u001b[0m: global name 'Efn' is not defined"
       ]
      }
     ],
     "prompt_number": 2
    },
    {
     "cell_type": "code",
     "collapsed": false,
     "input": [],
     "language": "python",
     "metadata": {},
     "outputs": [
      {
       "metadata": {},
       "output_type": "pyout",
       "prompt_number": 6,
       "text": [
        "<module 'orbitutils' from '/Users/tdm/Dropbox/FPP/src/orbitutils.pyc'>"
       ]
      }
     ],
     "prompt_number": 6
    },
    {
     "cell_type": "code",
     "collapsed": false,
     "input": [],
     "language": "python",
     "metadata": {},
     "outputs": []
    }
   ],
   "metadata": {}
  }
 ]
}